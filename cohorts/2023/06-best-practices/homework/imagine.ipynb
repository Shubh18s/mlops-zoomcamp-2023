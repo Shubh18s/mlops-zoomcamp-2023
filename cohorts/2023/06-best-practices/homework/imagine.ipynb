{
 "cells": [
  {
   "cell_type": "code",
   "execution_count": 1,
   "metadata": {},
   "outputs": [],
   "source": [
    "import pandas as pd\n",
    "\n",
    "from datetime import datetime\n",
    "\n",
    "def dt(hour, minute, second=0):\n",
    "    return datetime(2022, 1, 1, hour, minute, second)"
   ]
  },
  {
   "cell_type": "code",
   "execution_count": 5,
   "metadata": {},
   "outputs": [],
   "source": [
    "data = [\n",
    "    (None, None, dt(1, 2), dt(1, 10)),\n",
    "    (1, None, dt(1, 2), dt(1, 10)),\n",
    "    (1, 2, dt(2, 2), dt(2, 3)),\n",
    "    (None, 1, dt(1, 2, 0), dt(1, 2, 50)),\n",
    "    (2, 3, dt(1, 2, 0), dt(1, 2, 59)),\n",
    "    (3, 4, dt(1, 2, 0), dt(2, 2, 1)),     \n",
    "    ]\n",
    "\n",
    "columns = ['PULocationID', 'DOLocationID', 'tpep_pickup_datetime', 'tpep_dropoff_datetime']\n",
    "df = pd.DataFrame(data, columns=columns)\n"
   ]
  },
  {
   "cell_type": "code",
   "execution_count": 6,
   "metadata": {},
   "outputs": [
    {
     "data": {
      "text/html": [
       "<div>\n",
       "<style scoped>\n",
       "    .dataframe tbody tr th:only-of-type {\n",
       "        vertical-align: middle;\n",
       "    }\n",
       "\n",
       "    .dataframe tbody tr th {\n",
       "        vertical-align: top;\n",
       "    }\n",
       "\n",
       "    .dataframe thead th {\n",
       "        text-align: right;\n",
       "    }\n",
       "</style>\n",
       "<table border=\"1\" class=\"dataframe\">\n",
       "  <thead>\n",
       "    <tr style=\"text-align: right;\">\n",
       "      <th></th>\n",
       "      <th>PULocationID</th>\n",
       "      <th>DOLocationID</th>\n",
       "      <th>tpep_pickup_datetime</th>\n",
       "      <th>tpep_dropoff_datetime</th>\n",
       "    </tr>\n",
       "  </thead>\n",
       "  <tbody>\n",
       "    <tr>\n",
       "      <th>0</th>\n",
       "      <td>NaN</td>\n",
       "      <td>NaN</td>\n",
       "      <td>2022-01-01 01:02:00</td>\n",
       "      <td>2022-01-01 01:10:00</td>\n",
       "    </tr>\n",
       "    <tr>\n",
       "      <th>1</th>\n",
       "      <td>1.0</td>\n",
       "      <td>NaN</td>\n",
       "      <td>2022-01-01 01:02:00</td>\n",
       "      <td>2022-01-01 01:10:00</td>\n",
       "    </tr>\n",
       "    <tr>\n",
       "      <th>2</th>\n",
       "      <td>1.0</td>\n",
       "      <td>2.0</td>\n",
       "      <td>2022-01-01 02:02:00</td>\n",
       "      <td>2022-01-01 02:03:00</td>\n",
       "    </tr>\n",
       "    <tr>\n",
       "      <th>3</th>\n",
       "      <td>NaN</td>\n",
       "      <td>1.0</td>\n",
       "      <td>2022-01-01 01:02:00</td>\n",
       "      <td>2022-01-01 01:02:50</td>\n",
       "    </tr>\n",
       "    <tr>\n",
       "      <th>4</th>\n",
       "      <td>2.0</td>\n",
       "      <td>3.0</td>\n",
       "      <td>2022-01-01 01:02:00</td>\n",
       "      <td>2022-01-01 01:02:59</td>\n",
       "    </tr>\n",
       "  </tbody>\n",
       "</table>\n",
       "</div>"
      ],
      "text/plain": [
       "   PULocationID  DOLocationID tpep_pickup_datetime tpep_dropoff_datetime\n",
       "0           NaN           NaN  2022-01-01 01:02:00   2022-01-01 01:10:00\n",
       "1           1.0           NaN  2022-01-01 01:02:00   2022-01-01 01:10:00\n",
       "2           1.0           2.0  2022-01-01 02:02:00   2022-01-01 02:03:00\n",
       "3           NaN           1.0  2022-01-01 01:02:00   2022-01-01 01:02:50\n",
       "4           2.0           3.0  2022-01-01 01:02:00   2022-01-01 01:02:59"
      ]
     },
     "execution_count": 6,
     "metadata": {},
     "output_type": "execute_result"
    }
   ],
   "source": [
    "df.head()"
   ]
  },
  {
   "cell_type": "code",
   "execution_count": 7,
   "metadata": {},
   "outputs": [],
   "source": [
    "df['duration'] = df.tpep_dropoff_datetime - df.tpep_pickup_datetime\n",
    "df['duration'] = df.duration.dt.total_seconds() / 60\n"
   ]
  },
  {
   "cell_type": "code",
   "execution_count": 8,
   "metadata": {},
   "outputs": [
    {
     "data": {
      "text/html": [
       "<div>\n",
       "<style scoped>\n",
       "    .dataframe tbody tr th:only-of-type {\n",
       "        vertical-align: middle;\n",
       "    }\n",
       "\n",
       "    .dataframe tbody tr th {\n",
       "        vertical-align: top;\n",
       "    }\n",
       "\n",
       "    .dataframe thead th {\n",
       "        text-align: right;\n",
       "    }\n",
       "</style>\n",
       "<table border=\"1\" class=\"dataframe\">\n",
       "  <thead>\n",
       "    <tr style=\"text-align: right;\">\n",
       "      <th></th>\n",
       "      <th>PULocationID</th>\n",
       "      <th>DOLocationID</th>\n",
       "      <th>tpep_pickup_datetime</th>\n",
       "      <th>tpep_dropoff_datetime</th>\n",
       "      <th>duration</th>\n",
       "    </tr>\n",
       "  </thead>\n",
       "  <tbody>\n",
       "    <tr>\n",
       "      <th>0</th>\n",
       "      <td>NaN</td>\n",
       "      <td>NaN</td>\n",
       "      <td>2022-01-01 01:02:00</td>\n",
       "      <td>2022-01-01 01:10:00</td>\n",
       "      <td>8.000000</td>\n",
       "    </tr>\n",
       "    <tr>\n",
       "      <th>1</th>\n",
       "      <td>1.0</td>\n",
       "      <td>NaN</td>\n",
       "      <td>2022-01-01 01:02:00</td>\n",
       "      <td>2022-01-01 01:10:00</td>\n",
       "      <td>8.000000</td>\n",
       "    </tr>\n",
       "    <tr>\n",
       "      <th>2</th>\n",
       "      <td>1.0</td>\n",
       "      <td>2.0</td>\n",
       "      <td>2022-01-01 02:02:00</td>\n",
       "      <td>2022-01-01 02:03:00</td>\n",
       "      <td>1.000000</td>\n",
       "    </tr>\n",
       "    <tr>\n",
       "      <th>3</th>\n",
       "      <td>NaN</td>\n",
       "      <td>1.0</td>\n",
       "      <td>2022-01-01 01:02:00</td>\n",
       "      <td>2022-01-01 01:02:50</td>\n",
       "      <td>0.833333</td>\n",
       "    </tr>\n",
       "    <tr>\n",
       "      <th>4</th>\n",
       "      <td>2.0</td>\n",
       "      <td>3.0</td>\n",
       "      <td>2022-01-01 01:02:00</td>\n",
       "      <td>2022-01-01 01:02:59</td>\n",
       "      <td>0.983333</td>\n",
       "    </tr>\n",
       "    <tr>\n",
       "      <th>5</th>\n",
       "      <td>3.0</td>\n",
       "      <td>4.0</td>\n",
       "      <td>2022-01-01 01:02:00</td>\n",
       "      <td>2022-01-01 02:02:01</td>\n",
       "      <td>60.016667</td>\n",
       "    </tr>\n",
       "  </tbody>\n",
       "</table>\n",
       "</div>"
      ],
      "text/plain": [
       "   PULocationID  DOLocationID tpep_pickup_datetime tpep_dropoff_datetime  \\\n",
       "0           NaN           NaN  2022-01-01 01:02:00   2022-01-01 01:10:00   \n",
       "1           1.0           NaN  2022-01-01 01:02:00   2022-01-01 01:10:00   \n",
       "2           1.0           2.0  2022-01-01 02:02:00   2022-01-01 02:03:00   \n",
       "3           NaN           1.0  2022-01-01 01:02:00   2022-01-01 01:02:50   \n",
       "4           2.0           3.0  2022-01-01 01:02:00   2022-01-01 01:02:59   \n",
       "5           3.0           4.0  2022-01-01 01:02:00   2022-01-01 02:02:01   \n",
       "\n",
       "    duration  \n",
       "0   8.000000  \n",
       "1   8.000000  \n",
       "2   1.000000  \n",
       "3   0.833333  \n",
       "4   0.983333  \n",
       "5  60.016667  "
      ]
     },
     "execution_count": 8,
     "metadata": {},
     "output_type": "execute_result"
    }
   ],
   "source": [
    "df"
   ]
  },
  {
   "cell_type": "code",
   "execution_count": 9,
   "metadata": {},
   "outputs": [],
   "source": [
    "categorical_features = ['PULocationID', 'DOLocationID']\n",
    "df = df[(df.duration >= 1) & (df.duration <= 60)].copy()\n",
    "\n",
    "df[categorical_features] = df[categorical_features].fillna(-1).astype('int').astype('str')"
   ]
  },
  {
   "cell_type": "code",
   "execution_count": 10,
   "metadata": {},
   "outputs": [
    {
     "data": {
      "text/html": [
       "<div>\n",
       "<style scoped>\n",
       "    .dataframe tbody tr th:only-of-type {\n",
       "        vertical-align: middle;\n",
       "    }\n",
       "\n",
       "    .dataframe tbody tr th {\n",
       "        vertical-align: top;\n",
       "    }\n",
       "\n",
       "    .dataframe thead th {\n",
       "        text-align: right;\n",
       "    }\n",
       "</style>\n",
       "<table border=\"1\" class=\"dataframe\">\n",
       "  <thead>\n",
       "    <tr style=\"text-align: right;\">\n",
       "      <th></th>\n",
       "      <th>PULocationID</th>\n",
       "      <th>DOLocationID</th>\n",
       "      <th>tpep_pickup_datetime</th>\n",
       "      <th>tpep_dropoff_datetime</th>\n",
       "      <th>duration</th>\n",
       "    </tr>\n",
       "  </thead>\n",
       "  <tbody>\n",
       "    <tr>\n",
       "      <th>0</th>\n",
       "      <td>-1</td>\n",
       "      <td>-1</td>\n",
       "      <td>2022-01-01 01:02:00</td>\n",
       "      <td>2022-01-01 01:10:00</td>\n",
       "      <td>8.0</td>\n",
       "    </tr>\n",
       "    <tr>\n",
       "      <th>1</th>\n",
       "      <td>1</td>\n",
       "      <td>-1</td>\n",
       "      <td>2022-01-01 01:02:00</td>\n",
       "      <td>2022-01-01 01:10:00</td>\n",
       "      <td>8.0</td>\n",
       "    </tr>\n",
       "    <tr>\n",
       "      <th>2</th>\n",
       "      <td>1</td>\n",
       "      <td>2</td>\n",
       "      <td>2022-01-01 02:02:00</td>\n",
       "      <td>2022-01-01 02:03:00</td>\n",
       "      <td>1.0</td>\n",
       "    </tr>\n",
       "  </tbody>\n",
       "</table>\n",
       "</div>"
      ],
      "text/plain": [
       "  PULocationID DOLocationID tpep_pickup_datetime tpep_dropoff_datetime  \\\n",
       "0           -1           -1  2022-01-01 01:02:00   2022-01-01 01:10:00   \n",
       "1            1           -1  2022-01-01 01:02:00   2022-01-01 01:10:00   \n",
       "2            1            2  2022-01-01 02:02:00   2022-01-01 02:03:00   \n",
       "\n",
       "   duration  \n",
       "0       8.0  \n",
       "1       8.0  \n",
       "2       1.0  "
      ]
     },
     "execution_count": 10,
     "metadata": {},
     "output_type": "execute_result"
    }
   ],
   "source": [
    "df"
   ]
  },
  {
   "cell_type": "code",
   "execution_count": 11,
   "metadata": {},
   "outputs": [
    {
     "data": {
      "text/plain": [
       "{'PULocationID': {0: '-1', 1: '1', 2: '1'},\n",
       " 'DOLocationID': {0: '-1', 1: '-1', 2: '2'},\n",
       " 'tpep_pickup_datetime': {0: Timestamp('2022-01-01 01:02:00'),\n",
       "  1: Timestamp('2022-01-01 01:02:00'),\n",
       "  2: Timestamp('2022-01-01 02:02:00')},\n",
       " 'tpep_dropoff_datetime': {0: Timestamp('2022-01-01 01:10:00'),\n",
       "  1: Timestamp('2022-01-01 01:10:00'),\n",
       "  2: Timestamp('2022-01-01 02:03:00')},\n",
       " 'duration': {0: 8.0, 1: 8.0, 2: 1.0}}"
      ]
     },
     "execution_count": 11,
     "metadata": {},
     "output_type": "execute_result"
    }
   ],
   "source": [
    "df.to_dict()"
   ]
  },
  {
   "cell_type": "code",
   "execution_count": 12,
   "metadata": {},
   "outputs": [],
   "source": [
    "def prepare_data(df, categorical_features, pickup_datetime_colname, dropoff_datetime_colname):\n",
    "    print(pickup_datetime_colname)\n",
    "    df['duration'] = df[dropoff_datetime_colname] - df[pickup_datetime_colname]\n",
    "    df['duration'] = df.duration.dt.total_seconds() / 60\n",
    "\n",
    "    df = df[(df.duration >= 1) & (df.duration <= 60)].copy()\n",
    "\n",
    "    df[categorical_features] = df[categorical_features].fillna(-1).astype('int').astype('str')\n",
    "\n",
    "    return df"
   ]
  },
  {
   "cell_type": "code",
   "execution_count": 13,
   "metadata": {},
   "outputs": [
    {
     "name": "stdout",
     "output_type": "stream",
     "text": [
      "tpep_pickup_datetime\n"
     ]
    },
    {
     "data": {
      "text/html": [
       "<div>\n",
       "<style scoped>\n",
       "    .dataframe tbody tr th:only-of-type {\n",
       "        vertical-align: middle;\n",
       "    }\n",
       "\n",
       "    .dataframe tbody tr th {\n",
       "        vertical-align: top;\n",
       "    }\n",
       "\n",
       "    .dataframe thead th {\n",
       "        text-align: right;\n",
       "    }\n",
       "</style>\n",
       "<table border=\"1\" class=\"dataframe\">\n",
       "  <thead>\n",
       "    <tr style=\"text-align: right;\">\n",
       "      <th></th>\n",
       "      <th>PULocationID</th>\n",
       "      <th>DOLocationID</th>\n",
       "      <th>tpep_pickup_datetime</th>\n",
       "      <th>tpep_dropoff_datetime</th>\n",
       "      <th>duration</th>\n",
       "    </tr>\n",
       "  </thead>\n",
       "  <tbody>\n",
       "    <tr>\n",
       "      <th>0</th>\n",
       "      <td>-1</td>\n",
       "      <td>-1</td>\n",
       "      <td>2022-01-01 01:02:00</td>\n",
       "      <td>2022-01-01 01:10:00</td>\n",
       "      <td>8.0</td>\n",
       "    </tr>\n",
       "    <tr>\n",
       "      <th>1</th>\n",
       "      <td>1</td>\n",
       "      <td>-1</td>\n",
       "      <td>2022-01-01 01:02:00</td>\n",
       "      <td>2022-01-01 01:10:00</td>\n",
       "      <td>8.0</td>\n",
       "    </tr>\n",
       "    <tr>\n",
       "      <th>2</th>\n",
       "      <td>1</td>\n",
       "      <td>2</td>\n",
       "      <td>2022-01-01 02:02:00</td>\n",
       "      <td>2022-01-01 02:03:00</td>\n",
       "      <td>1.0</td>\n",
       "    </tr>\n",
       "  </tbody>\n",
       "</table>\n",
       "</div>"
      ],
      "text/plain": [
       "  PULocationID DOLocationID tpep_pickup_datetime tpep_dropoff_datetime  \\\n",
       "0           -1           -1  2022-01-01 01:02:00   2022-01-01 01:10:00   \n",
       "1            1           -1  2022-01-01 01:02:00   2022-01-01 01:10:00   \n",
       "2            1            2  2022-01-01 02:02:00   2022-01-01 02:03:00   \n",
       "\n",
       "   duration  \n",
       "0       8.0  \n",
       "1       8.0  \n",
       "2       1.0  "
      ]
     },
     "execution_count": 13,
     "metadata": {},
     "output_type": "execute_result"
    }
   ],
   "source": [
    "categorical_features = ['PULocationID', 'DOLocationID']\n",
    "prepare_data(df, categorical_features, \"tpep_pickup_datetime\", \"tpep_dropoff_datetime\")"
   ]
  },
  {
   "cell_type": "code",
   "execution_count": 14,
   "metadata": {},
   "outputs": [
    {
     "name": "stdout",
     "output_type": "stream",
     "text": [
      "<class 'pandas.core.frame.DataFrame'>\n",
      "Int64Index: 3 entries, 0 to 2\n",
      "Data columns (total 5 columns):\n",
      " #   Column                 Non-Null Count  Dtype         \n",
      "---  ------                 --------------  -----         \n",
      " 0   PULocationID           3 non-null      object        \n",
      " 1   DOLocationID           3 non-null      object        \n",
      " 2   tpep_pickup_datetime   3 non-null      datetime64[ns]\n",
      " 3   tpep_dropoff_datetime  3 non-null      datetime64[ns]\n",
      " 4   duration               3 non-null      float64       \n",
      "dtypes: datetime64[ns](2), float64(1), object(2)\n",
      "memory usage: 144.0+ bytes\n"
     ]
    }
   ],
   "source": [
    "df.info()"
   ]
  },
  {
   "cell_type": "code",
   "execution_count": 15,
   "metadata": {},
   "outputs": [],
   "source": [
    "output_data = [(-1,-1,pd.to_datetime('2022-01-01 01:02:00'),pd.to_datetime('2022-01-01 01:10:00'),8.0),\n",
    "\t(1,-1,pd.to_datetime('2022-01-01 01:02:00'),pd.to_datetime('2022-01-01 01:10:00'),8.0),\n",
    "\t(1,2, pd.to_datetime('2022-01-01 02:02:00'),pd.to_datetime('2022-01-01 02:03:00'),1.0)\n",
    "    ]\n",
    "output_columns = ['PULocationID', 'DOLocationID', 'tpep_pickup_datetime', 'tpep_dropoff_datetime', 'duration']\n",
    "expected_result = pd.DataFrame(output_data, columns=output_columns).to_dict()"
   ]
  },
  {
   "cell_type": "code",
   "execution_count": 16,
   "metadata": {},
   "outputs": [
    {
     "data": {
      "text/plain": [
       "{'PULocationID': {0: -1, 1: 1, 2: 1},\n",
       " 'DOLocationID': {0: -1, 1: -1, 2: 2},\n",
       " 'tpep_pickup_datetime': {0: Timestamp('2022-01-01 01:02:00'),\n",
       "  1: Timestamp('2022-01-01 01:02:00'),\n",
       "  2: Timestamp('2022-01-01 02:02:00')},\n",
       " 'tpep_dropoff_datetime': {0: Timestamp('2022-01-01 01:10:00'),\n",
       "  1: Timestamp('2022-01-01 01:10:00'),\n",
       "  2: Timestamp('2022-01-01 02:03:00')},\n",
       " 'duration': {0: 8.0, 1: 8.0, 2: 1.0}}"
      ]
     },
     "execution_count": 16,
     "metadata": {},
     "output_type": "execute_result"
    }
   ],
   "source": [
    "expected_result"
   ]
  },
  {
   "cell_type": "code",
   "execution_count": 20,
   "metadata": {},
   "outputs": [
    {
     "data": {
      "text/plain": [
       "False"
      ]
     },
     "execution_count": 20,
     "metadata": {},
     "output_type": "execute_result"
    }
   ],
   "source": [
    "df.to_dict() == expected_result"
   ]
  },
  {
   "cell_type": "code",
   "execution_count": 19,
   "metadata": {},
   "outputs": [
    {
     "data": {
      "text/html": [
       "<div>\n",
       "<style scoped>\n",
       "    .dataframe tbody tr th:only-of-type {\n",
       "        vertical-align: middle;\n",
       "    }\n",
       "\n",
       "    .dataframe tbody tr th {\n",
       "        vertical-align: top;\n",
       "    }\n",
       "\n",
       "    .dataframe thead th {\n",
       "        text-align: right;\n",
       "    }\n",
       "</style>\n",
       "<table border=\"1\" class=\"dataframe\">\n",
       "  <thead>\n",
       "    <tr style=\"text-align: right;\">\n",
       "      <th></th>\n",
       "      <th>PULocationID</th>\n",
       "      <th>DOLocationID</th>\n",
       "      <th>tpep_pickup_datetime</th>\n",
       "      <th>tpep_dropoff_datetime</th>\n",
       "      <th>duration</th>\n",
       "    </tr>\n",
       "  </thead>\n",
       "  <tbody>\n",
       "    <tr>\n",
       "      <th>0</th>\n",
       "      <td>-1</td>\n",
       "      <td>-1</td>\n",
       "      <td>2022-01-01 01:02:00</td>\n",
       "      <td>2022-01-01 01:10:00</td>\n",
       "      <td>8.0</td>\n",
       "    </tr>\n",
       "    <tr>\n",
       "      <th>1</th>\n",
       "      <td>1</td>\n",
       "      <td>-1</td>\n",
       "      <td>2022-01-01 01:02:00</td>\n",
       "      <td>2022-01-01 01:10:00</td>\n",
       "      <td>8.0</td>\n",
       "    </tr>\n",
       "    <tr>\n",
       "      <th>2</th>\n",
       "      <td>1</td>\n",
       "      <td>2</td>\n",
       "      <td>2022-01-01 02:02:00</td>\n",
       "      <td>2022-01-01 02:03:00</td>\n",
       "      <td>1.0</td>\n",
       "    </tr>\n",
       "  </tbody>\n",
       "</table>\n",
       "</div>"
      ],
      "text/plain": [
       "  PULocationID DOLocationID tpep_pickup_datetime tpep_dropoff_datetime  \\\n",
       "0           -1           -1  2022-01-01 01:02:00   2022-01-01 01:10:00   \n",
       "1            1           -1  2022-01-01 01:02:00   2022-01-01 01:10:00   \n",
       "2            1            2  2022-01-01 02:02:00   2022-01-01 02:03:00   \n",
       "\n",
       "   duration  \n",
       "0       8.0  \n",
       "1       8.0  \n",
       "2       1.0  "
      ]
     },
     "execution_count": 19,
     "metadata": {},
     "output_type": "execute_result"
    }
   ],
   "source": [
    "df"
   ]
  }
 ],
 "metadata": {
  "kernelspec": {
   "display_name": "homework-HEtj_Ajn",
   "language": "python",
   "name": "python3"
  },
  "language_info": {
   "codemirror_mode": {
    "name": "ipython",
    "version": 3
   },
   "file_extension": ".py",
   "mimetype": "text/x-python",
   "name": "python",
   "nbconvert_exporter": "python",
   "pygments_lexer": "ipython3",
   "version": "3.10.9"
  },
  "orig_nbformat": 4
 },
 "nbformat": 4,
 "nbformat_minor": 2
}
